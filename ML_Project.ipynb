{
 "cells": [
  {
   "cell_type": "code",
   "execution_count": null,
   "metadata": {},
   "outputs": [],
   "source": [
    "!pip3 install numpy\n",
    "!pip3 install pandas\n",
    "!pip3 install scipy\n",
    "!pip3 install scikit-learn"
   ]
  },
  {
   "cell_type": "code",
   "execution_count": null,
   "metadata": {},
   "outputs": [],
   "source": [
    "import pandas as pd #data preprocessing,csv file i/0\n",
    "import numpy as np#linear algebra"
   ]
  },
  {
   "cell_type": "code",
   "execution_count": null,
   "metadata": {},
   "outputs": [],
   "source": [
    "df=pd.read_csv('Weather Training Data.csv')
   ]
  },
  {
   "cell_type": "code",
   "execution_count": null,
   "metadata": {},
   "outputs": [],
   "source": [
    "print('Size of weather data frame is:',df.shape)"
   ]
  },
  {
   "cell_type": "code",
   "execution_count": null,
   "metadata": {},
   "outputs": [],
   "source": [
    "print(df[0:5])"
   ]
  },
  {
   "cell_type": "code",
   "execution_count": null,
   "metadata": {},
   "outputs": [],
   "source": [
    "#checking no. of existing values\n",
    "#data_preprocessing\n",
    "print(df.count().sort_values())"
   ]
  },
  {
   "cell_type": "code",
   "execution_count": null,
   "metadata": {},
   "outputs": [],
   "source": [
    "#removing_unwanted_variables\n",
    "df=df.drop(columns=['Sunshine','Evaporation','Cloud3pm','Cloud9am','Location'],axis=1)\n",
    "print(df.shape)"
   ]
  },
  {
   "cell_type": "code",
   "execution_count": null,
   "metadata": {},
   "outputs": [],
   "source": [
    "#get_rid_of_null_values\n",
    "df=df.dropna(how='any')\n",
    "print(df.shape)"
   ]
  },
  {
   "cell_type": "code",
   "execution_count": null,
   "metadata": {},
   "outputs": [],
   "source": [
    "#remove_outliers_in_data_using_z_score\n",
    "from scipy import stats\n",
    "z=np.abs(stats.zscore(df._get_numeric_data()))\n",
    "print(z)\n",
    "df=df[(z<3).all(axis=1)]\n",
    "print(df.shape)"
   ]
  },
  {
   "cell_type": "code",
   "execution_count": null,
   "metadata": {},
   "outputs": [],
   "source": [
    "#for-categorical_columns_change_yes_no_to_1/0_for_rain_today_and_rain_tommorrow\n",
    "df['RainToday'].replace({'No':0,'Yes':1},inplace=True)\n",
    "df['RainTomorrow'].replace({'No':0,'Yes':1},inplace=True)\n",
    "print(df.shape)\n",
    "print(df)"
   ]
  },
  {
   "cell_type": "code",
   "execution_count": null,
   "metadata": {},
   "outputs": [],
   "source": [
    "#change_unique_values_to_int\n",
    "categorical_columns=['WindDir3pm']\n",
    "for col in categorical_columns:\n",
    "    print(np.unique(df[col]))\n",
    "    #transform_categorical_columns\n",
    "df=pd.get_dummies(df,columns=categorical_columns)\n",
    "print(df.iloc[4:9])"
   ]
  },
  {
   "cell_type": "code",
   "execution_count": null,
   "metadata": {},
   "outputs": [],
   "source": [
    "#standardise_data_using_min_max_scaler\n",
    "# Identify non-numeric columns\n",
    "# Import the MinMaxScaler\n",
    "from sklearn import preprocessing\n",
    "# Identify and convert categorical columns to numeric using label encoding\n",
    "categorical_columns = df.select_dtypes(include=['object']).columns\n",
    "label_encoders = {}\n",
    "for col in categorical_columns:\n",
    "    le = preprocessing.LabelEncoder()\n",
    "    df[col] = le.fit_transform(df[col])\n",
    "    label_encoders[col] = le\n",
    "\n",
    "scaler = preprocessing.MinMaxScaler()\n",
    "scaler.fit(df)\n",
    "df = pd.DataFrame(scaler.transform(df), index=df.index, columns=df.columns)\n",
    "\n",
    "print(df.iloc[4:10])\n"
   ]
  },
  {
   "cell_type": "code",
   "execution_count": null,
   "metadata": {},
   "outputs": [],
   "source": [
    "#Preprocessing_is_complete\n",
    "#Expolatory_data_analysis\n",
    "#feature_selection\n",
    "#selectKBest_function is used to select some selective variables\n",
    "from sklearn.feature_selection import SelectKBest ,chi2"
   ]
  },
  {
   "cell_type": "code",
   "execution_count": null,
   "metadata": {},
   "outputs": [],
   "source": [
    "#it will select the most significant predictor variable\n",
    "x=df.loc[:,df.columns!='RainTomorrow']\n",
    "y=df[['RainTomorrow']]\n",
    "selector=SelectKBest(chi2,k=3)\n",
    "selector.fit(x,y)\n",
    "x_new=selector.transform(x)\n",
    "print(x.columns[selector.get_support(indices=True)])#top 3 columns"
   ]
  },
  {
   "cell_type": "code",
   "execution_count": null,
   "metadata": {},
   "outputs": [],
   "source": [
    "#get_hold_of_important_features_and_assign_them_as_x\n",
    "df=df[['Humidity3pm','Rainfall','RainToday','RainTomorrow']]\n",
    "x=df[['Humidity3pm']]#let's_use_only_one_feature\n",
    "y=df[['RainTomorrow']]"
   ]
  },
  {
   "cell_type": "code",
   "execution_count": null,
   "metadata": {},
   "outputs": [],
   "source": [
    "#data_modelling\n",
    "#use_classification_logisitic_regression\n",
    "from sklearn.linear_model import LogisticRegression\n",
    "from sklearn.model_selection import train_test_split\n",
    "from sklearn.metrics import accuracy_score\n",
    "import time"
   ]
  },
  {
   "cell_type": "code",
   "execution_count": null,
   "metadata": {},
   "outputs": [],
   "source": [
    "#calculate_accuracy_and_time_taken_by_classifier\n",
    "t0=time.time()"
   ]
  },
  {
   "cell_type": "code",
   "execution_count": null,
   "metadata": {},
   "outputs": [],
   "source": [
    "#data_splicing-splitting_data_in_testing_and_training_data\n",
    "x_train,x_test,y_train,y_test=train_test_split(x,y,test_size=0.25)#testing-data=25%and_remaining_training_data=75%\n",
    "clf_logreg=LogisticRegression(random_state=0)#creation_of_instance_for_logistic_regression\n",
    "#fit/build the model_using_training_dataset\n",
    "clf_logreg.fit(x_train,y_train)"
   ]
  },
  {
   "cell_type": "code",
   "execution_count": null,
   "metadata": {},
   "outputs": [],
   "source": [
    "#evaluating_model_using_testing_dataset\n",
    "y_pred=clf_logreg.predict(x_test)\n",
    "score1=accuracy_score(y_test,y_pred)"
   ]
  },
  {
   "cell_type": "code",
   "execution_count": null,
   "metadata": {},
   "outputs": [],
   "source": [
    "print('accuracy using logistic regression:',score1)\n",
    "print('time taken by logistic regression:',time.time()-t0)"
   ]
  },
  {
   "cell_type": "code",
   "execution_count": null,
   "metadata": {},
   "outputs": [],
   "source": [
    "#random_forest_classifier\n",
    "from sklearn.ensemble import RandomForestClassifier\n",
    "from sklearn.model_selection import train_test_split"
   ]
  },
  {
   "cell_type": "code",
   "execution_count": null,
   "metadata": {},
   "outputs": [],
   "source": [
    "#calculating_accuarcy_and_time_taken_by_classifier\n",
    "t0=time.time()"
   ]
  },
  {
   "cell_type": "code",
   "execution_count": null,
   "metadata": {},
   "outputs": [],
   "source": [
    "#data_splitting\n",
    "x_train,x_test,y_train,y_test=train_test_split(x,y,test_size=0.25)\n",
    "clf_rf=RandomForestClassifier(n_estimators=100,max_depth=4,random_state=0)\n",
    "clf_rf.fit(x_train,y_train)#fitting the model\n",
    "y_pred=clf_rf.predict(x_test)\n",
    "score2=accuracy_score(y_test,y_pred)\n",
    "print('Accuracy by Random Forest Classifier:',score2)\n",
    "print('Time Taken by Random Forest Classifier:',time.time()-t0)"
   ]
  },
  {
   "cell_type": "code",
   "execution_count": null,
   "metadata": {},
   "outputs": [],
   "source": [
    "#Decision_tree_classifier\n",
    "from sklearn.tree import DecisionTreeClassifier\n",
    "from sklearn.model_selection import train_test_split"
   ]
  },
  {
   "cell_type": "code",
   "execution_count": null,
   "metadata": {},
   "outputs": [],
   "source": [
    "t0=time.time()"
   ]
  },
  {
   "cell_type": "code",
   "execution_count": null,
   "metadata": {},
   "outputs": [],
   "source": [
    "x_train,x_test,y_train,y_test=train_test_split(x,y,test_size=0.25)\n",
    "clf_dt=DecisionTreeClassifier(random_state=0)\n",
    "clf_dt.fit(x_train,y_train)\n",
    "#evaluate_model_using_testing_data\n",
    "y_pred=clf_dt.predict(x_test)\n",
    "score3=accuracy_score(y_test,y_pred)"
   ]
  },
  {
   "cell_type": "code",
   "execution_count": null,
   "metadata": {},
   "outputs": [],
   "source": [
    "print('Accuracy by Random Forest classifier:',score3)\n",
    "print('Time Taken by classifier:',time.time()-t0)"
   ]
  },
  {
   "cell_type": "code",
   "execution_count": null,
   "metadata": {},
   "outputs": [],
   "source": [
    "#Support_vector_machine\n",
    "from sklearn import svm \n",
    "from sklearn.model_selection import train_test_split"
   ]
  },
  {
   "cell_type": "code",
   "execution_count": null,
   "metadata": {},
   "outputs": [],
   "source": [
    "t0=time.time()"
   ]
  },
  {
   "cell_type": "code",
   "execution_count": null,
   "metadata": {},
   "outputs": [],
   "source": [
    "#data_splitting\n",
    "x_train,x_test,y_train,y_test=train_test_split(x,y,test_size=0.25)\n",
    "clf_svc = svm.SVC(kernel='linear')"
   ]
  },
  {
   "cell_type": "code",
   "execution_count": null,
   "metadata": {},
   "outputs": [],
   "source": [
    "#builiding/fitting_model_using_training_data\n",
    "clf_svc.fit(x_train,y_train)\n",
    "#evaluating_the_model\n",
    "y_pred=clf_svc.predict(x_test)\n",
    "score4=accuracy_score(y_test,y_pred)"
   ]
  },
  {
   "cell_type": "code",
   "execution_count": null,
   "metadata": {},
   "outputs": [],
   "source": [
    "print('Accuracy By Support Vector Machine:',score4)\n",
    "print('Time taken By Support Vector Machine:',time.time()-t0)"
   ]
  },
  {
   "cell_type": "markdown",
   "metadata": {},
   "source": [
    "#################################### DEEP LEARNING ######################################"
   ]
  },
  {
   "cell_type": "code",
   "execution_count": null,
   "metadata": {},
   "outputs": [],
   "source": [
    "!pip3 install tensorflow\n",
    "import numpy as np\n",
    "from tensorflow.keras.models import Sequential\n",
    "from tensorflow.keras.layers import LSTM,Dense"
   ]
  },
  {
   "cell_type": "code",
   "execution_count": null,
   "metadata": {},
   "outputs": [],
   "source": [
    "model = Sequential()"
   ]
  },
  {
   "cell_type": "code",
   "execution_count": null,
   "metadata": {},
   "outputs": [],
   "source": [
    "import numpy as np\n",
    "!pip3 install matplotlib\n",
    "import matplotlib.pyplot as plt"
   ]
  },
  {
   "cell_type": "code",
   "execution_count": null,
   "metadata": {},
   "outputs": [],
   "source": [
    "score = np.float64(0.85)\n",
    "\n",
    "# Check the type of the variable\n",
    "if isinstance(score, dict):\n",
    "    names = list(score.keys())\n",
    "    values = list(score.values())\n",
    "    \n",
    "    plt.figure(figsize=(10, 5))\n",
    "    plt.bar(names, values)\n",
    "    plt.xlabel('Classifiers')\n",
    "    plt.ylabel('Accuracy Score')\n",
    "    plt.title('Accuracy Score of Different Classifiers')\n",
    "    plt.ylim(0, 1.0)  # Set y-axis limit to 0-1 for accuracy scores\n",
    "    plt.show()\n",
    "else:\n",
    "    print(\"The variable is not a dictionary.\")\n"
   ]
  },
  {
   "cell_type": "code",
   "execution_count": null,
   "metadata": {},
   "outputs": [],
   "source": [
    "# Deep Learning Model (LSTM)\n",
    "model = Sequential()\n",
    "model.add(LSTM(50, activation='relu', input_shape=(1, 1)))  # Adjust input shape based on your data\n",
    "model.add(Dense(1))\n",
    "model.compile(optimizer='adam', loss='mse')"
   ]
  },
  {
   "cell_type": "code",
   "execution_count": null,
   "metadata": {},
   "outputs": [],
   "source": [
    "x_train_lstm = np.reshape(x_train.values, (x_train.shape[0], 1, 1))\n",
    "x_test_lstm = np.reshape(x_test.values, (x_test.shape[0], 1, 1))"
   ]
  },
  {
   "cell_type": "code",
   "execution_count": null,
   "metadata": {},
   "outputs": [],
   "source": [
    "t0 = time.time()\n",
    "model.fit(x_train_lstm, y_train, epochs=50, verbose=1)\n",
    "predictions = model.predict(x_test_lstm)\n",
    "score_lstm = accuracy_score(y_test, predictions.round())\n",
    "print(f'Accuracy using LSTM: {score_lstm}')\n",
    "print(f'Time taken by LSTM: {time.time() - t0}')"
   ]
  },
  {
   "cell_type": "code",
   "execution_count": null,
   "metadata": {},
   "outputs": [],
   "source": [
    "#artificial_neural_network\n",
    "model = Sequential()\n",
    "model.add(Dense(32, input_dim=x_train.shape[1], activation='relu'))\n",
    "model.add(Dense(16, activation='relu'))\n",
    "model.add(Dense(1, activation='sigmoid'))\n",
    "\n",
    "# Compile the model\n",
    "model.compile(optimizer='adam', loss='binary_crossentropy', metrics=['accuracy'])\n",
    "\n",
    "# Train the model\n",
    "model.fit(x_train, y_train, epochs=10, batch_size=32, validation_split=0.2)\n",
    "\n",
    "# Evaluate the model on the test set\n",
    "y_pred = (model.predict(x_test) > 0.5).astype(int)\n",
    "accuracy = accuracy_score(y_test, y_pred)\n",
    "\n",
    "print(f\"Accuracy on the test set: {accuracy}\")"
   ]
  },
  {
   "cell_type": "markdown",
   "metadata": {},
   "source": [
    "###################### RESULTS #################################"
   ]
  },
  {
   "cell_type": "code",
   "execution_count": null,
   "metadata": {},
   "outputs": [],
   "source": [
    "#for_lstm\n",
    "history = model.fit(x_train_lstm, y_train, epochs=50, verbose=1)\n",
    "\n",
    "# Plot the training loss over epochs\n",
    "plt.plot(history.history['loss'])\n",
    "plt.title('Model Loss Over Epochs')\n",
    "plt.xlabel('Epoch')\n",
    "plt.ylabel('Loss')\n",
    "plt.show()\n",
    "\n",
    "# Evaluate the model on the test set\n",
    "predictions = model.predict(x_test_lstm)\n",
    "score_lstm = accuracy_score(y_test, predictions.round())\n",
    "print(f'Accuracy using LSTM: {score_lstm}')\n"
   ]
  },
  {
   "cell_type": "code",
   "execution_count": null,
   "metadata": {},
   "outputs": [],
   "source": [
    "#for_ANN_plot\n",
    "import matplotlib.pyplot as plt\n",
    "from keras.models import Sequential\n",
    "from keras.layers import Dense\n",
    "from sklearn.metrics import accuracy_score\n",
    "\n",
    "# Assuming x_train, y_train, x_test, and y_test are your training and testing data\n",
    "\n",
    "# Define the model\n",
    "model = Sequential()\n",
    "model.add(Dense(32, input_dim=x_train.shape[1], activation='relu'))\n",
    "model.add(Dense(16, activation='relu'))\n",
    "model.add(Dense(1, activation='sigmoid'))\n",
    "\n",
    "# Compile the model\n",
    "model.compile(optimizer='adam', loss='binary_crossentropy', metrics=['accuracy'])\n",
    "\n",
    "# Train the model and record the training history\n",
    "history = model.fit(x_train, y_train, epochs=10, batch_size=32, validation_split=0.2)\n",
    "\n",
    "# Plot the training and validation accuracy over epochs\n",
    "plt.figure(figsize=(12, 4))\n",
    "\n",
    "# Plot training & validation accuracy values\n",
    "plt.subplot(1, 2, 1)\n",
    "plt.plot(history.history['accuracy'])\n",
    "plt.plot(history.history['val_accuracy'])\n",
    "plt.title('Model accuracy')\n",
    "plt.xlabel('Epoch')\n",
    "plt.ylabel('Accuracy')\n",
    "plt.legend(['Train', 'Validation'], loc='upper left')\n",
    "\n",
    "# Plot training & validation loss values\n",
    "plt.subplot(1, 2, 2)\n",
    "plt.plot(history.history['loss'])\n",
    "plt.plot(history.history['val_loss'])\n",
    "plt.title('Model loss')\n",
    "plt.xlabel('Epoch')\n",
    "plt.ylabel('Loss')\n",
    "plt.legend(['Train', 'Validation'], loc='upper left')\n",
    "\n",
    "plt.show()\n",
    "\n",
    "# Evaluate the model on the test set\n",
    "y_pred = (model.predict(x_test) > 0.5).astype(int)\n",
    "accuracy = accuracy_score(y_test, y_pred)\n",
    "\n",
    "print(f\"Accuracy on the test set: {accuracy}\")\n"
   ]
  },
  {
   "cell_type": "code",
   "execution_count": null,
   "metadata": {},
   "outputs": [],
   "source": [
    "#k_n_n_classifier\n",
    "from sklearn.neighbors import KNeighborsClassifier\n",
    "from sklearn.metrics import accuracy_score, classification_report, confusion_matrix\n",
    "k = 3  # Choose the value of k\n",
    "knn_classifier = KNeighborsClassifier(n_neighbors=k)\n",
    "knn_classifier.fit(x_train,y_train)\n"
   ]
  },
  {
   "cell_type": "code",
   "execution_count": null,
   "metadata": {},
   "outputs": [],
   "source": [
    "y_pred = knn_classifier.predict(x_test)"
   ]
  },
  {
   "cell_type": "code",
   "execution_count": null,
   "metadata": {},
   "outputs": [],
   "source": [
    "accuracy1 = accuracy_score(y_test, y_pred)\n",
    "print(f'Accuracy: {accuracy1:.2f}')\n",
    "\n",
    "print('\\nConfusion Matrix:')\n",
    "print(confusion_matrix(y_test, y_pred))\n",
    "\n",
    "print('\\nClassification Report:')\n",
    "print(classification_report(y_test, y_pred))\n"
   ]
  },
  {
   "cell_type": "code",
   "execution_count": null,
   "metadata": {},
   "outputs": [],
   "source": [
    "data=pd.DataFrame({'Classifier_Name':{1:'Logistic_Regression',2:'Random_forest',3:'Decision_Tree',4:'Support_Vector_Machine',5:'LSTM',6:'Artificial_Neural_Network',7:'K_N_N_Classifier'},'Accuracy':{1:[score1],2:[score2],3:[score3],4:[score4],5:[score_lstm],6:[accuracy],7:[accuracy1]}})\n",
    "data"
   ]
  },
  {
   "cell_type": "code",
   "execution_count": null,
   "metadata": {},
   "outputs": [],
   "source": [
    "d1 = pd.DataFrame({\n",
    "    'Classifier_Name': {\n",
    "        1: 'Logistic_Regression',\n",
    "        2: 'Random_forest',\n",
    "        3: 'Decision_Tree',\n",
    "        4: 'Support_Vector_Machine',\n",
    "        5: 'LSTM',\n",
    "        6: 'Artificial_Neural_Network',\n",
    "        7: 'K_N_N_Classifier'\n",
    "    },\n",
    "    'Accuracy': {\n",
    "        1: [score1],\n",
    "        2: [score2],\n",
    "        3: [score3],\n",
    "        4: [score4],\n",
    "        5: [score_lstm],\n",
    "        6: [accuracy],\n",
    "        7: [accuracy1]\n",
    "    }\n",
    "})\n",
    "\n",
    "# maximum accuracy and its corresponding classifier\n",
    "max_accuracy_row = data.loc[data['Accuracy'].apply(lambda x: max(x)).idxmax()]\n",
    "\n",
    "# Print the results\n",
    "print(f\"The maximum accuracy is {max_accuracy_row['Accuracy'][0]} achieved by {max_accuracy_row['Classifier_Name']}.\")"
   ]
  },
  {
   "cell_type": "code",
   "execution_count": null,
   "metadata": {},
   "outputs": [],
   "source": [
    "plt.figure(figsize=(10, 6))\n",
    "plt.bar(data['Classifier_Name'], data['Accuracy'].apply(lambda x: max(x)))\n",
    "plt.xlabel('Classifier Name')\n",
    "plt.ylabel('Accuracy')\n",
    "plt.title('Accuracy Comparison Across Classifiers')\n",
    "plt.ylim(0, 1)  # Set the y-axis limit to better visualize differences\n",
    "plt.show()"
   ]
  }
 ],
 "metadata": {
  "kernelspec": {
   "display_name": "Python 3",
   "language": "python",
   "name": "python3"
  },
  "language_info": {
   "codemirror_mode": {
    "name": "ipython",
    "version": 3
   },
   "file_extension": ".py",
   "mimetype": "text/x-python",
   "name": "python",
   "nbconvert_exporter": "python",
   "pygments_lexer": "ipython3",
   "version": "3.11.4"
  }
 },
 "nbformat": 4,
 "nbformat_minor": 2
}
